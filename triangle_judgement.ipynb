{
 "cells": [
  {
   "cell_type": "markdown",
   "metadata": {},
   "source": [
    "# Project Description\n",
    "\n",
    "Report for every three line segments whether they can form a triangle.\n",
    "\n",
    "- **Return the result table in any order.**\n",
    "\n",
    "## Example\n",
    "\n",
    "### Input:\n",
    "**Triangle table:**\n",
    "| x  | y  | z  |\n",
    "|----|----|----|\n",
    "| 13 | 15 | 30 |\n",
    "| 10 | 20 | 15 |\n",
    "\n",
    "### Output:\n",
    "| x  | y  | z  | triangle |\n",
    "|----|----|----|----------|\n",
    "| 13 | 15 | 30 | No       |\n",
    "| 10 | 20 | 15 | Yes      |\n",
    "\n",
    "\n",
    "## Intuition\n",
    "The first thought would be to apply the Triangle Inequality Theorem directly to each row of data in a database table. Each row represents a potential triangle with sides `x`, `y`, and `z`. We need to check if these sides can form a triangle according to the theorem.\n",
    "\n",
    "## Approach\n",
    "- **Data**: Assume we have a table named `Triangle` with columns `x`, `y`, and `z`.\n",
    "- **Logic**: Use a `CASE` statement to evaluate the triangle inequality for each row:\n",
    "  - If all three conditions of the triangle inequality theorem are met, then the answer is 'Yes'.\n",
    "  - Otherwise, it's 'No'.\n",
    "\n",
    "The `CASE` statement allows for conditional logic within SQL, which is perfect for this scenario.\n",
    "\n",
    "## Complexity\n",
    "\n",
    "- **Time complexity**: \n",
    "  - O(n), where n is the number of rows in the `Triangle` table. We're performing a constant amount of operations (three comparisons) for each row.\n",
    "\n",
    "- **Space complexity**: \n",
    "  - O(n). The space required is proportional to the output; we're selecting all rows plus an additional column, so it's linear with respect to the input size.\n",
    "\n",
    "# Code\n",
    "```sql\n",
    "SELECT x, y, z,\n",
    "    CASE\n",
    "        WHEN x+y > z AND x+z > y AND y+z > x \n",
    "        THEN 'Yes'\n",
    "        ELSE 'No'\n",
    "    END AS triangle \n",
    "FROM Triangle;"
   ]
  }
 ],
 "metadata": {
  "language_info": {
   "name": "python"
  }
 },
 "nbformat": 4,
 "nbformat_minor": 2
}
