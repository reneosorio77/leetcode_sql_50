{
 "cells": [
  {
   "cell_type": "markdown",
   "metadata": {},
   "source": [
    "# Project Description\n",
    "\n",
    "Write a solution to find the `patient_id`, `patient_name`, and `conditions` of the patients who have Type I Diabetes. Type I Diabetes always starts with `DIAB1` prefix.\n",
    "\n",
    "Return the result table in any order.\n",
    "\n",
    "## Example\n",
    "\n",
    "### Input:\n",
    "**Patients table:**\n",
    "| patient_id | patient_name | conditions   |\n",
    "|------------|--------------|--------------|\n",
    "| 1          | Daniel       | YFEV COUGH   |\n",
    "| 2          | Alice        |              |\n",
    "| 3          | Bob          | DIAB100 MYOP |\n",
    "| 4          | George       | ACNE DIAB100 |\n",
    "| 5          | Alain        | DIAB201      |\n",
    "\n",
    "### Output:\n",
    "| patient_id | patient_name | conditions   |\n",
    "|------------|--------------|--------------|\n",
    "| 3          | Bob          | DIAB100 MYOP |\n",
    "| 4          | George       | ACNE DIAB100 |\n",
    "\n",
    "# Intuition\n",
    "The problem requires identifying patients with Type 1 Diabetes from a conditions column. Since conditions can contain multiple codes and `DIAB1` could appear anywhere in the string, we need to search for this pattern in different positions.\n",
    "\n",
    "# Approach\n",
    "1. Use the SELECT statement to retrieve the required columns: `patient_id`, `patient_name`, and `conditions`.\n",
    "2. From the `Patients` table.\n",
    "3. Use WHERE clause with LIKE operator to find 'DIAB1' in different positions:\n",
    "   - `'% DIAB1%'` for `DIAB1` between other conditions\n",
    "   - `'DIAB1%'` for `DIAB1` at the start\n",
    "   - `'% DIAB1'` for `DIAB1` at the end\n",
    "4. Combine these conditions with OR operators.\n",
    "\n",
    "# Complexity\n",
    "- **Time complexity:** O(n)\n",
    "  - Where n is the number of rows in the `Patients` table.\n",
    "  - The query needs to scan each row once to check the conditions.\n",
    "- **Space complexity:** O(m)\n",
    "  - Where m is the number of matching rows. \n",
    "  - Space is needed to store the result set, which could be less than or equal to n if not all patients have diabetes.\n",
    "\n",
    "# Code\n",
    "```sql\n",
    "SELECT patient_id, patient_name, conditions\n",
    "FROM Patients\n",
    "WHERE conditions LIKE '% DIAB1%' \n",
    "   OR conditions LIKE 'DIAB1%' \n",
    "   OR conditions LIKE '% DIAB1'"
   ]
  }
 ],
 "metadata": {
  "language_info": {
   "name": "python"
  }
 },
 "nbformat": 4,
 "nbformat_minor": 2
}
