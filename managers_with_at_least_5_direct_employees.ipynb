{
 "cells": [
  {
   "cell_type": "markdown",
   "metadata": {},
   "source": [
    "# Problem Description\n",
    "Write a solution to find managers with at least five direct reports.\n",
    "\n",
    "**Return the result table in any order.**\n",
    "\n",
    "## Example 1:\n",
    "\n",
    "### Input: \n",
    "\n",
    "**Employee**\n",
    "| id  | name  | department | managerId |\n",
    "|-----|-------|------------|-----------|\n",
    "| 101 | John  | A          | null      |\n",
    "| 102 | Dan   | A          | 101       |\n",
    "| 103 | James | A          | 101       |\n",
    "| 104 | Amy   | A          | 101       |\n",
    "| 105 | Anne  | A          | 101       |\n",
    "| 106 | Ron   | B          | 101       |\n",
    "\n",
    "### Output: \n",
    "\n",
    "| name |\n",
    "|------|\n",
    "| John |\n",
    "\n",
    "# Intuition\n",
    "The goal is to identify managers who have at least five direct reports. We need to count the number of employees reporting to each manager and then filter for those with 5 or more reports.\n",
    "\n",
    "# Approach\n",
    "- Use a **subquery** to group employees by `managerId` and count them.\n",
    "- Apply **HAVING** to filter managers with 5 or more direct reports.\n",
    "- Use **WHERE id IN (...)** to select these managers' names, avoiding the use of JOINs or Common Table Expressions (CTEs) for simplicity and to potentially reduce complexity.\n",
    "\n",
    "# Complexity\n",
    "- **Time complexity**: \n",
    "  - O(N), where \\( N \\) is the total number of employees. This involves two table scans, optimized by indexing.\n",
    "  \n",
    "- **Space complexity**: \n",
    "  - O(M), where \\( M \\) is the number of unique managers. Space is used for the intermediate results of the subquery.\n",
    "\n",
    "# Solution\n",
    "\n",
    "```mysql\n",
    "SELECT e.name\n",
    "FROM Employee e\n",
    "WHERE e.id IN (\n",
    "    SELECT managerId\n",
    "    FROM Employee\n",
    "    GROUP BY managerId\n",
    "    HAVING COUNT(*) >= 5\n",
    ");"
   ]
  }
 ],
 "metadata": {
  "language_info": {
   "name": "python"
  }
 },
 "nbformat": 4,
 "nbformat_minor": 2
}
