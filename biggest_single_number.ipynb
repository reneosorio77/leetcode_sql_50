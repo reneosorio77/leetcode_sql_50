{
 "cells": [
  {
   "cell_type": "markdown",
   "metadata": {},
   "source": [
    "# Problem Statement\n",
    "A single number is a number that appeared only once in the `MyNumbers` table.\n",
    "\n",
    "Find the largest single number. If there is no single number, report `null`.\n",
    "\n",
    "The result format is in the following example.\n",
    "\n",
    "**Example 1:**\n",
    "\n",
    "**Input:** \n",
    "MyNumbers table:\n",
    "| num |\n",
    "|-----|\n",
    "| 8   |\n",
    "| 8   |\n",
    "| 3   |\n",
    "| 3   |\n",
    "| 1   |\n",
    "| 4   |\n",
    "| 5   |\n",
    "| 6   |\n",
    "\n",
    "**Output:** \n",
    "| num |\n",
    "|-----|\n",
    "| 6   |\n",
    "\n",
    "# Intuition\n",
    "The problem likely requires finding the maximum number that appears only once in the table `MyNumbers`. My first thought is to use a subquery to isolate numbers that appear exactly once, then find the maximum among those.\n",
    "\n",
    "# Approach\n",
    "1. **Subquery**: Use a subquery to group all numbers by their value and count how many times each number appears. Filter for those numbers that appear exactly once.\n",
    "2. **MAX Function**: Apply the `MAX` function to the result of the subquery to get the highest number among those that appear once.\n",
    "\n",
    "# Complexity\n",
    "- **Time complexity**: \n",
    "  - O(n log n) due to the grouping operation in MySQL which sorts the data.\n",
    "- **Space complexity**: \n",
    "  - O(n) for storing the intermediate result of the subquery.\n",
    "\n",
    "# Code\n",
    "\n",
    "```sql\n",
    "SELECT\n",
    "    MAX(num) AS num\n",
    "FROM\n",
    "    (SELECT num FROM MyNumbers GROUP BY num HAVING COUNT(*)=1) AS single_numbers;"
   ]
  }
 ],
 "metadata": {
  "language_info": {
   "name": "python"
  }
 },
 "nbformat": 4,
 "nbformat_minor": 2
}
