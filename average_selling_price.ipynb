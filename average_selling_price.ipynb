{
 "cells": [
  {
   "cell_type": "markdown",
   "metadata": {},
   "source": [
    "# SQL Query to Find Average Selling Price\n",
    "\n",
    "## Problem Statement\n",
    "\n",
    "Write a solution to find the average selling price for each product. `average_price` should be rounded to 2 decimal places. If a product does not have any sold units, its average selling price is assumed to be 0.\n",
    "\n",
    "Return the result table in any order.\n",
    "\n",
    "### Example\n",
    "\n",
    "**Example 1:**\n",
    "\n",
    "**Input:** \n",
    "Prices table:\n",
    "```sql\n",
    "+------------+------------+------------+--------+\n",
    "| product_id | start_date | end_date   | price  |\n",
    "+------------+------------+------------+--------+\n",
    "| 1          | 2019-02-17 | 2019-02-28 | 5      |\n",
    "| 1          | 2019-03-01 | 2019-03-22 | 20     |\n",
    "| 2          | 2019-02-01 | 2019-02-20 | 15     |\n",
    "| 2          | 2019-02-21 | 2019-03-31 | 30     |\n",
    "+------------+------------+------------+--------+\n",
    "UnitsSold table:\n",
    "sql\n",
    "+------------+---------------+-------+\n",
    "| product_id | purchase_date | units |\n",
    "+------------+---------------+-------+\n",
    "| 1          | 2019-02-25    | 100   |\n",
    "| 1          | 2019-03-01    | 15    |\n",
    "| 2          | 2019-02-10    | 200   |\n",
    "| 2          | 2019-03-22    | 30    |\n",
    "+------------+---------------+-------+\n",
    "Output: \n",
    "sql\n",
    "+------------+---------------+\n",
    "| product_id | average_price |\n",
    "+------------+---------------+\n",
    "| 1          | 6.96          |\n",
    "| 2          | 16.96         |\n",
    "+------------+---------------+\n"
   ]
  },
  {
   "cell_type": "markdown",
   "metadata": {},
   "source": [
    "# Intuition\n",
    "\n",
    "The problem requires finding the average selling price for each product, considering different price points over time. We need to link sales data with the corresponding price data, calculate the total revenue and units sold for each product, and then derive the average price. For products without sales, we must return an average price of 0.\n",
    "\n",
    "# Approach\n",
    "\n",
    "- Perform a LEFT JOIN to match sales (`UnitsSold`) with pricing (`Prices`) based on product ID and ensure the sale's date falls within the price's validity period.\n",
    "- Calculate total revenue by multiplying price with units sold for each sale, then summing this up per product.\n",
    "- Calculate total units sold per product to use for the average price calculation.\n",
    "- Use `COALESCE` to handle the case where there are no sales for a product, ensuring the result is 0 rather than NULL.\n",
    "- Round the average price to two decimal places as required by the problem statement.\n",
    "\n",
    "# Complexity\n",
    "- **Time complexity:**\n",
    "\n",
    "  O(n log n), where n is the total number of records across both tables. The join and aggregation operations are the primary factors here, with the potential sorting in `GROUP BY` adding to the complexity, though this can be mitigated with appropriate indexing.\n",
    "\n",
    "- **Space complexity:**\n",
    "\n",
    "  O(n), as we need space to store the result of the join operation before aggregation. The exact space used will depend on the number of rows in the joined result set."
   ]
  },
  {
   "cell_type": "code",
   "execution_count": null,
   "metadata": {
    "vscode": {
     "languageId": "sql"
    }
   },
   "outputs": [],
   "source": [
    "# code\n",
    "SELECT \n",
    "    p.product_id,\n",
    "    ROUND(COALESCE(SUM(p.price * u.units) / NULLIF(SUM(u.units), 0), 0), 2) AS average_price\n",
    "FROM \n",
    "    Prices p\n",
    "LEFT JOIN \n",
    "    UnitsSold u ON p.product_id = u.product_id \n",
    "    AND u.purchase_date BETWEEN p.start_date AND p.end_date\n",
    "GROUP BY \n",
    "    p.product_id;"
   ]
  }
 ],
 "metadata": {
  "language_info": {
   "name": "python"
  }
 },
 "nbformat": 4,
 "nbformat_minor": 2
}
