{
 "cells": [
  {
   "cell_type": "markdown",
   "metadata": {},
   "source": [
    "# Project Description\n",
    "\n",
    "Write a solution to find for each date the number of different products sold and their names.\n",
    "\n",
    "The sold products names for each date should be sorted lexicographically.\n",
    "\n",
    "Return the result table ordered by `sell_date`.\n",
    "\n",
    "## Example\n",
    "\n",
    "### Input:\n",
    "**Activities table:**\n",
    "| sell_date  | product     |\n",
    "|------------|-------------|\n",
    "| 2020-05-30 | Headphone   |\n",
    "| 2020-06-01 | Pencil      |\n",
    "| 2020-06-02 | Mask        |\n",
    "| 2020-05-30 | Basketball  |\n",
    "| 2020-06-01 | Bible       |\n",
    "| 2020-06-02 | Mask        |\n",
    "| 2020-05-30 | T-Shirt     |\n",
    "\n",
    "### Output:\n",
    "| sell_date  | num_sold | products                     |\n",
    "|------------|----------|------------------------------|\n",
    "| 2020-05-30 | 3        | Basketball,Headphone,T-shirt |\n",
    "| 2020-06-01 | 2        | Bible,Pencil                 |\n",
    "| 2020-06-02 | 1        | Mask                         |\n",
    "\n",
    "# Intuition\n",
    "The problem requires us to group products that were sold on the same day, count the unique products sold, and list these products in a sorted manner. My first thought was to use SQL aggregation functions to achieve this. Since we need to list each product only once per day, using `DISTINCT` within our aggregation would be key.\n",
    "\n",
    "# Approach\n",
    "1. **Group by Date**: We need to group the sales by `sell_date` to get the daily aggregation.\n",
    "2. **Count Unique Products**: Use `COUNT(DISTINCT product)` to count the number of unique products sold on each date.\n",
    "3. **Concatenate Products**: Use `GROUP_CONCAT` to list the products sold on each date. Since we want to avoid duplicates and have them sorted, we'll use `DISTINCT` and `ORDER BY` within the `GROUP_CONCAT`.\n",
    "4. **Sorting**: Finally, we'll order the results by `sell_date` to ensure chronological order.\n",
    "\n",
    "# Complexity\n",
    "- **Time complexity**: O(n log n) where \\( n \\) is the number of rows in the Activities table. This is due to the sorting operation within `GROUP_CONCAT` which sorts the products for each date.\n",
    "\n",
    "- **Space complexity**: O(n) where \\( n \\) is the number of rows in the result set. The space is used for storing the grouped and concatenated results.\n",
    "\n",
    "# Code\n",
    "```sql\n",
    "SELECT sell_date,\n",
    "       COUNT(DISTINCT product) AS num_sold,\n",
    "       GROUP_CONCAT(DISTINCT product ORDER BY product ASC SEPARATOR ',') AS products\n",
    "FROM Activities\n",
    "GROUP BY sell_date\n",
    "ORDER BY sell_date ASC;"
   ]
  }
 ],
 "metadata": {
  "language_info": {
   "name": "python"
  }
 },
 "nbformat": 4,
 "nbformat_minor": 2
}
