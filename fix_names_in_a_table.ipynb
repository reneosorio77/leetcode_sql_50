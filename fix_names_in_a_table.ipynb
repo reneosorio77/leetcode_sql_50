{
 "cells": [
  {
   "cell_type": "markdown",
   "metadata": {},
   "source": [
    "# Project Description\n",
    "\n",
    "Write a solution to fix the names so that only the first character is uppercase and the rest are lowercase.\n",
    "\n",
    "Return the result table ordered by `user_id`.\n",
    "\n",
    "## Example\n",
    "\n",
    "### Input:\n",
    "**Users table:**\n",
    "| user_id | name  |\n",
    "|---------|-------|\n",
    "| 1       | aLice |\n",
    "| 2       | bOB   |\n",
    "\n",
    "### Output:\n",
    "| user_id | name  |\n",
    "|---------|-------|\n",
    "| 1       | Alice |\n",
    "| 2       | Bob   |\n",
    "\n",
    "# Intuition\n",
    "The task requires correcting the case of names in the `Users` table, ensuring that only the first letter of each name is capitalized while the rest are in lowercase. This involves string manipulation where we need to capitalize the first character and make the rest lowercase.\n",
    "\n",
    "# Approach\n",
    "- **Select Data**: Query the `user_id` and `name` from the `Users` table.\n",
    "- **String Manipulation**: Use SQL string functions:\n",
    "  - `UPPER(SUBSTR(name, 1, 1))` to uppercase the first character of the name.\n",
    "  - `LOWER(SUBSTR(name, 2))` to lowercase the rest of the name.\n",
    "- **Concatenate**: Combine these parts using `CONCAT`.\n",
    "- **Ordering**: Sort the result by `user_id` to match the example's expected output format.\n",
    "\n",
    "Note: In SQL lite you have to use UPPER(SUBSTR(name, 1, 1)) || LOWER(SUBSTR(name, 2)) AS name\n",
    "\n",
    "# Complexity\n",
    "- **Time complexity:** $$O(n \\log n)$$. Sorting the output by `user_id` contributes to this complexity, with `n` being the number of rows in the `Users` table.\n",
    "- **Space complexity:** $$O(n)$$. The space used is proportional to the number of rows fetched and possibly temporary space for sorting.\n",
    "\n",
    "# Code\n",
    "```sql\n",
    "SELECT user_id, CONCAT(UPPER(SUBSTR(name, 1, 1)), LOWER(SUBSTR(name, 2))) AS name\n",
    "FROM Users\n",
    "ORDER BY user_id;"
   ]
  }
 ],
 "metadata": {
  "language_info": {
   "name": "python"
  }
 },
 "nbformat": 4,
 "nbformat_minor": 2
}
