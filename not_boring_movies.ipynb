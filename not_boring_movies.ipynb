{
 "cells": [
  {
   "cell_type": "markdown",
   "metadata": {},
   "source": [
    "# Problem: Non-Boring Movies with Odd ID\n",
    "\n",
    "**Description:**\n",
    "\n",
    "Write a solution to report the movies with an odd-numbered ID and a description that is not \"boring\".\n",
    "\n",
    "Return the result table ordered by rating in descending order.\n",
    "\n",
    "**Example:**\n",
    "\n",
    "**Input:** \n",
    "- Cinema table:\n",
    "  ```sql\n",
    "  +----+------------+-------------+--------+\n",
    "  | id | movie      | description | rating |\n",
    "  +----+------------+-------------+--------+\n",
    "  | 1  | War        | great 3D    | 8.9    |\n",
    "  | 2  | Science    | fiction     | 8.5    |\n",
    "  | 3  | irish      | boring      | 6.2    |\n",
    "  | 4  | Ice song   | Fantacy     | 8.6    |\n",
    "  | 5  | House card | Interesting | 9.1    |\n",
    "  +----+------------+-------------+--------+\n",
    "**output:** \n",
    "  ```sql\n",
    "  +----+------------+-------------+--------+\n",
    "| id | movie      | description | rating |\n",
    "+----+------------+-------------+--------+\n",
    "| 5  | House card | Interesting | 9.1    |\n",
    "| 1  | War        | great 3D    | 8.9    |\n",
    "+----+------------+-------------+--------+"
   ]
  },
  {
   "cell_type": "markdown",
   "metadata": {},
   "source": [
    "# Intuition\n",
    "<!-- Describe your first thoughts on how to solve this problem. -->\n",
    "The goal is to select movies from a 'Cinema' table that are not described as \"boring\" and where the ID is odd, then sort by rating in descending order. The first thought would involve filtering based on conditions and sorting.\n",
    "\n",
    "# Approach\n",
    "<!-- Describe your approach to solving the problem. -->\n",
    "- Filter out movies where the description is \"boring\".\n",
    "- Ensure the movie ID is odd by checking if `id % 2 != 0`.\n",
    "- Sort the remaining records by their rating in descending order to get the highest rated movies first.\n",
    "\n",
    "# Complexity\n",
    "- **Time complexity:** O(n log n)\n",
    "  \n",
    ", where n is the number of records in the Cinema table. Sorting is generally the dominant factor here.\n",
    "\n",
    "- **Space complexity:**\n",
    "  \n",
    "  O(n), due to the sorting operation which might require additional space depending on the sort algorithm used by MySQL.\n",
    "\n",
    "\n",
    "```sql\n",
    "\n",
    "SELECT *\n",
    "FROM Cinema\n",
    "WHERE description != \"boring\" AND id % 2 != 0\n",
    "ORDER BY rating DESC;"
   ]
  }
 ],
 "metadata": {
  "language_info": {
   "name": "python"
  }
 },
 "nbformat": 4,
 "nbformat_minor": 2
}
