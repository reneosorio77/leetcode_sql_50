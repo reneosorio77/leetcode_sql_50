{
 "cells": [
  {
   "cell_type": "markdown",
   "metadata": {},
   "source": [
    "# Intuition\n",
    "<!-- Describe your first thoughts on how to solve this problem. -->\n",
    "The goal is to select movies from a 'Cinema' table that are not described as \"boring\" and where the ID is odd, then sort by rating in descending order. The first thought would involve filtering based on conditions and sorting.\n",
    "\n",
    "# Approach\n",
    "<!-- Describe your approach to solving the problem. -->\n",
    "- Filter out movies where the description is \"boring\".\n",
    "- Ensure the movie ID is odd by checking if `id % 2 != 0`.\n",
    "- Sort the remaining records by their rating in descending order to get the highest rated movies first.\n",
    "\n",
    "# Complexity\n",
    "- **Time complexity:** O(n log n)\n",
    "  <!-- Add your time complexity here, e.g. $$O(n)$$ -->\n",
    ", where n is the number of records in the Cinema table. Sorting is generally the dominant factor here.\n",
    "\n",
    "- **Space complexity:**\n",
    "  <!-- Add your space complexity here, e.g. $$O(n)$$ -->\n",
    "  O(n), due to the sorting operation which might require additional space depending on the sort algorithm used by MySQL.\n",
    "\n",
    "# Code\n",
    "```mysql\n",
    "# Write your statement below\n",
    "SELECT *\n",
    "FROM Cinema\n",
    "WHERE description != \"boring\" AND id % 2 != 0\n",
    "ORDER BY rating DESC;"
   ]
  }
 ],
 "metadata": {
  "language_info": {
   "name": "python"
  }
 },
 "nbformat": 4,
 "nbformat_minor": 2
}
