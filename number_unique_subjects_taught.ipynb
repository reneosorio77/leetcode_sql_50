{
 "cells": [
  {
   "cell_type": "markdown",
   "metadata": {},
   "source": [
    "# Problem Statement\n",
    "Write a solution to calculate the number of unique subjects each teacher teaches in the university.\n",
    "\n",
    "Return the result table in any order.\n",
    "\n",
    "**Example:**\n",
    "\n",
    "**Input:** \n",
    "Teacher table:\n",
    "| teacher_id | subject_id | dept_id |\n",
    "|------------|------------|---------|\n",
    "| 1          | 2          | 3       |\n",
    "| 1          | 2          | 4       |\n",
    "| 1          | 3          | 3       |\n",
    "| 2          | 1          | 1       |\n",
    "| 2          | 2          | 1       |\n",
    "| 2          | 3          | 1       |\n",
    "| 2          | 4          | 1       |\n",
    "\n",
    "**Output:** \n",
    "| teacher_id | cnt |\n",
    "|------------|-----|\n",
    "| 1          | 2   |\n",
    "| 2          | 4   |\n",
    "\n",
    "# Intuition\n",
    "We need to count how many different subjects each teacher teaches. The first step is to group the data by teacher, then count unique subjects for each.\n",
    "\n",
    "# Approach\n",
    "\n",
    "1. **Group by Teacher:** Use `GROUP BY` to segment the data by `teacher_id`.\n",
    "2. **Count Distinct Subjects:** For each teacher, count the distinct `subject_id`s they are associated with using `COUNT(DISTINCT subject_id)`.\n",
    "\n",
    "# Complexity\n",
    "- **Time complexity:**\n",
    "  - $$O(n \\log n)$$\n",
    "    - Due to the sorting required for grouping in `GROUP BY`, where n is the number of records in the `Teacher` table.\n",
    "\n",
    "- **Space complexity:**\n",
    "  - $$O(n)$$\n",
    "    - The space needed to store the grouped results, one entry per unique teacher.\n",
    "\n",
    "# Code\n",
    "```sql\n",
    "SELECT\n",
    "    teacher_id,\n",
    "    COUNT(DISTINCT subject_id) AS cnt\n",
    "FROM\n",
    "    Teacher\n",
    "GROUP BY\n",
    "    teacher_id;"
   ]
  }
 ],
 "metadata": {
  "language_info": {
   "name": "python"
  }
 },
 "nbformat": 4,
 "nbformat_minor": 2
}
