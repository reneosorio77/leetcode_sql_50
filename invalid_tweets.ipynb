{
 "cells": [
  {
   "cell_type": "markdown",
   "metadata": {},
   "source": [
    "# SQL Query to Find Invalid Tweets\n",
    "\n",
    "## Problem Statement\n",
    "\n",
    "Write a solution to find the IDs of the invalid tweets. The tweet is invalid if the number of characters used in the content of the tweet is strictly greater than 15.\n",
    "\n",
    "Return the result table in any order.\n",
    "\n",
    "### Example\n",
    "\n",
    "**Input:** \n",
    "Tweets table:\n",
    "```sql\n",
    "+----------+-----------------------------------+\n",
    "| tweet_id | content                           |\n",
    "+----------+-----------------------------------+\n",
    "| 1        | Let us Code                       |\n",
    "| 2        | More than fifteen chars are here! |\n",
    "+----------+-----------------------------------+\n",
    "\n",
    "Output: \n",
    "sql\n",
    "+----------+\n",
    "| tweet_id |\n",
    "+----------+\n",
    "| 2        |\n",
    "+----------+\n",
    "Explanation: \n",
    "Tweet 1 has length = 11. It is a valid tweet.\n",
    "Tweet 2 has length = 33. It is an invalid tweet.\n",
    "\n",
    "Intuition\n",
    "The task requires us to filter tweets based on their length. We'll use the LENGTH function to determine the character count of each tweet's content and compare it against the threshold of 15 characters.\n",
    "\n",
    "Approach\n",
    "Simple Approach\n",
    "sql\n",
    "SELECT tweet_id\n",
    "FROM Tweets\n",
    "WHERE LENGTH(content) > 15;\n",
    "\n",
    "Explanation:\n",
    "Select: We select only the tweet_id because that's what we need to return.\n",
    "Filter: Use the WHERE clause with LENGTH(content) > 15 to find all tweets where the content's length exceeds 15 characters.\n",
    "\n",
    "Complexity Analysis\n",
    "Time Complexity: O(n), where n is the number of rows in the Tweets table. Each row needs to be checked once.\n",
    "Space Complexity: O(m), where m is the number of invalid tweets. In the worst case, if all tweets are invalid, this would approach O(n), but typically, it would be less."
   ]
  }
 ],
 "metadata": {
  "language_info": {
   "name": "python"
  }
 },
 "nbformat": 4,
 "nbformat_minor": 2
}
